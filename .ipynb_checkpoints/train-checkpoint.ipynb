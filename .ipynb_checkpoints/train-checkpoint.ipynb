{
 "cells": [
  {
   "cell_type": "code",
   "execution_count": null,
   "metadata": {},
   "outputs": [],
   "source": [
    "from py_ball import playbyplay\n",
    "from nba_help import constants\n",
    "import numpy as np\n",
    "import json\n",
    "import os\n",
    "from sklearn import linear_model\n",
    "import pickle"
   ]
  },
  {
   "cell_type": "code",
   "execution_count": null,
   "metadata": {},
   "outputs": [],
   "source": [
    "TOTAL_GAMES_PER_YEAR = 1230"
   ]
  },
  {
   "cell_type": "code",
   "execution_count": null,
   "metadata": {},
   "outputs": [],
   "source": [
    "def get_seconds_left(period, time_string):\n",
    "    time_in_quarter = 12\n",
    "    if period > 4:\n",
    "        time_in_quarter=5\n",
    "    mins, seconds = time_string.split(':')\n",
    "    extra_after_quarter = (4-period)*time_in_quarter*60\n",
    "    if period > 4:\n",
    "        extra_after_quarter = (5-period)*time_in_quarter*60\n",
    "        time_elapsed = (time_in_quarter*60) - ((int(mins)*60)+(int(seconds)))\n",
    "        return extra_after_quarter-time_elapsed\n",
    "    else:\n",
    "        return extra_after_quarter+(int(mins)*60)+(int(seconds))"
   ]
  },
  {
   "cell_type": "code",
   "execution_count": null,
   "metadata": {},
   "outputs": [],
   "source": [
    "def get_game_ids(years):\n",
    "    game_ids = []\n",
    "    for year in years:\n",
    "        for game in range(1, TOTAL_GAMES_PER_YEAR+1):\n",
    "            maybe = '002%s' + str(game).zfill(5)\n",
    "            game_ids.append(maybe % year)\n",
    "    return game_ids"
   ]
  },
  {
   "cell_type": "code",
   "execution_count": null,
   "metadata": {},
   "outputs": [],
   "source": [
    "def populate_train_test(game_ids):\n",
    "    train_x = []\n",
    "    train_y = []\n",
    "    for game_id in game_ids:\n",
    "        print(game_id)\n",
    "        \n",
    "        pbp = playbyplay.PlayByPlay(headers=constants.headers, game_id=game_id)\n",
    "        with open('/home/avyayv/data/nba/playbyplay/py_ball/'+game_id+'.json', 'w') as fp:\n",
    "            json.dump(pbp.data, fp)\n",
    "            \n",
    "        time.sleep(0.5)\n",
    "    return train_x, train_y"
   ]
  },
  {
   "cell_type": "code",
   "execution_count": null,
   "metadata": {},
   "outputs": [],
   "source": [
    "train_gids = get_game_ids(['15','16', '17'])"
   ]
  },
  {
   "cell_type": "code",
   "execution_count": null,
   "metadata": {},
   "outputs": [],
   "source": [
    "populate_train_test(train_gids)"
   ]
  },
  {
   "cell_type": "code",
   "execution_count": null,
   "metadata": {},
   "outputs": [],
   "source": [
    "def get_train_test_from_dir(directory='/home/avyayv/data/nba/playbyplay/py_ball/'):\n",
    "    train_x = []\n",
    "    train_y = []\n",
    "    for file in os.listdir(directory):\n",
    "        try:\n",
    "            pbp = json.loads(open(directory+file).read())\n",
    "            jump_event = pbp['PlayByPlay'][1]\n",
    "            home_has_ball = (jump_event['HOMEDESCRIPTION'] != None)\n",
    "            current_margin = 0\n",
    "            home_wins = int(pbp['PlayByPlay'][-1]['SCOREMARGIN']) > 0\n",
    "            last_second = 2880\n",
    "            \n",
    "            number_of_quarters = int(pbp['PlayByPlay'][-1]['PERIOD'])\n",
    "            game_x = {}\n",
    "            game_y = []\n",
    "            \n",
    "            added_this_game = []\n",
    "            for event in pbp['PlayByPlay'][2:]:\n",
    "                \n",
    "                seconds_left_in_game = get_seconds_left(event['PERIOD'], event['PCTIMESTRING'], number_of_quarters)\n",
    "                \n",
    "                for sec in range(seconds_left_in_game+1, last_second):\n",
    "                    if sec % 10 == 0 and (sec not in added_this_game):\n",
    "                        game_x[sec] = [current_margin, home_wins, home_has_ball]\n",
    "                        game_y.append(int(home_wins))\n",
    "                        added_this_game.append(sec)\n",
    "                    \n",
    "                last_second = seconds_left_in_game\n",
    "                \n",
    "                home_desc = (event['HOMEDESCRIPTION'] != None)\n",
    "                visitor_desc = (event['VISITORDESCRIPTION'] != None)\n",
    "                \n",
    "                if home_desc and not visitor_desc:\n",
    "                    home_has_ball = True\n",
    "                \n",
    "                if visitor_desc and not home_desc:\n",
    "                    home_has_ball = False\n",
    "                    \n",
    "                if home_desc and visitor_desc:\n",
    "                    if ('STEAL' in event['HOMEDESCRIPTION']) or ('BLOCK' in event['HOMEDESCRIPTION']):\n",
    "                        home_has_ball = True\n",
    "                    else:\n",
    "                        home_has_ball = False\n",
    "                    \n",
    "                if event['SCOREMARGIN'] != None:\n",
    "                    margin = 0\n",
    "                    if event['SCOREMARGIN'] != 'TIE':\n",
    "                        margin = (int(event['SCOREMARGIN']))\n",
    "                        current_margin = margin\n",
    "                        \n",
    "                if seconds_left_in_game % 10 == 0 and seconds_left_in_game not in added_this_game:  \n",
    "                    game_x[seconds_left_in_game] = [current_margin, home_wins, home_has_ball]\n",
    "                    game_y.append(int(home_wins))\n",
    "                    added_this_game.append(int(seconds_left_in_game))\n",
    "                \n",
    "            train_x.append(game_x)\n",
    "            train_y.append(game_y)\n",
    "            \n",
    "        except UnicodeDecodeError:\n",
    "            continue\n",
    "       \n",
    "    return train_x, train_y"
   ]
  },
  {
   "cell_type": "code",
   "execution_count": null,
   "metadata": {},
   "outputs": [],
   "source": [
    "train_x, train_y = get_train_test_from_dir()"
   ]
  },
  {
   "cell_type": "code",
   "execution_count": null,
   "metadata": {},
   "outputs": [],
   "source": [
    "def train(train_x, train_y):\n",
    "    time_to_train_x = {}\n",
    "    time_to_train_y = {}\n",
    "    time_to_model = {}\n",
    "    for game in train_x:\n",
    "        for key in game.keys():\n",
    "            if key in time_to_train_x:\n",
    "                time_to_train_x[key].append([game[key][0], game[key][2]])\n",
    "                time_to_train_y[key].append(game[key][1])\n",
    "            else:\n",
    "                time_to_train_x[key] = [[game[key][0], game[key][2]]]\n",
    "                time_to_train_y[key] = [game[key][1]]\n",
    "                \n",
    "    for key in time_to_train_x.keys():\n",
    "        model = linear_model.LogisticRegression(max_iter=10000)\n",
    "        model.fit(X=np.array(time_to_train_x[key]), y=np.array(time_to_train_y[key]))\n",
    "        time_to_model[key] = model\n",
    "    return time_to_model"
   ]
  },
  {
   "cell_type": "code",
   "execution_count": null,
   "metadata": {},
   "outputs": [],
   "source": [
    "time_to_model = train(train_x, train_y, solver='lbfgs')"
   ]
  },
  {
   "cell_type": "code",
   "execution_count": null,
   "metadata": {},
   "outputs": [],
   "source": [
    "with open('model.pickle', 'wb') as handle:\n",
    "    pickle.dump(time_to_model, handle, protocol=pickle.HIGHEST_PROTOCOL)"
   ]
  }
 ],
 "metadata": {
  "kernelspec": {
   "display_name": "Python 3",
   "language": "python",
   "name": "python3"
  },
  "language_info": {
   "codemirror_mode": {
    "name": "ipython",
    "version": 3
   },
   "file_extension": ".py",
   "mimetype": "text/x-python",
   "name": "python",
   "nbconvert_exporter": "python",
   "pygments_lexer": "ipython3",
   "version": "3.7.3"
  }
 },
 "nbformat": 4,
 "nbformat_minor": 2
}
