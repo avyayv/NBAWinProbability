{
 "cells": [
  {
   "cell_type": "code",
   "execution_count": 1,
   "metadata": {},
   "outputs": [],
   "source": [
    "from py_ball import playbyplay #to get all the PBP data\n",
    "import numpy as np \n",
    "import json\n",
    "import os #itrate\n",
    "import time\n",
    "from sklearn import linear_model #logistic regression model\n",
    "import pickle #saving model"
   ]
  },
  {
   "cell_type": "code",
   "execution_count": 2,
   "metadata": {},
   "outputs": [],
   "source": [
    "\"\"\"\n",
    "Send request to NBA API so that it seems like this is a browser request from stats.nba.com\n",
    "\"\"\"\n",
    "headers = {\n",
    "    'Accept-Encoding': 'gzip, deflate, sdch',\n",
    "    'Accept-Language': 'en-US,en;q=0.8,ru;q=0.6',\n",
    "    'User-Agent': 'Mozilla/5.0 (Macintosh; Intel Mac OS X 10_11_2) AppleWebKit/537.36 (KHTML, like Gecko) Chrome/58.0.3029.110 Safari/537.36',\n",
    "    'Referer': 'https://stats.nba.com/teams/boxscores-traditional/',\n",
    "    'x-nba-stats-origin': 'stats',\n",
    "    'x-nba-stats-token': 'true'\n",
    "}\n"
   ]
  },
  {
   "cell_type": "code",
   "execution_count": 3,
   "metadata": {},
   "outputs": [],
   "source": [
    "TOTAL_GAMES_PER_YEAR = 1230 # there are 30*82*(1/2) games in a given season"
   ]
  },
  {
   "cell_type": "code",
   "execution_count": 4,
   "metadata": {},
   "outputs": [],
   "source": [
    "def get_seconds_left(period, time_string):\n",
    "    time_in_quarter = 12 #normal quarter is 12 minutes long\n",
    "    if period > 4:\n",
    "        time_in_quarter=5 #if it's overtime, 5 mins long\n",
    "    mins, seconds = time_string.split(':') #from a string like \"11:20\", we have 11 mins, 20 seconds\n",
    "    extra_after_quarter = (4-period)*time_in_quarter*60 \n",
    "    if period > 4:\n",
    "        #if overtime, we go into negatives, so 10 seconds into overtime is -10 and so on\n",
    "        extra_after_quarter = (5-period)*time_in_quarter*60 \n",
    "        time_elapsed = (time_in_quarter*60) - ((int(mins)*60)+(int(seconds))) # convert to seconds\n",
    "        return extra_after_quarter-time_elapsed\n",
    "    else:\n",
    "        return extra_after_quarter+(int(mins)*60)+(int(seconds)) #convert to seconds"
   ]
  },
  {
   "cell_type": "code",
   "execution_count": null,
   "metadata": {},
   "outputs": [],
   "source": [
    "\"\"\"\n",
    "Given the total number of games in a season, we generate the game_ids\n",
    "\"\"\"\n",
    "def get_game_ids(years):\n",
    "    game_ids = []\n",
    "    for year in years:\n",
    "        for game in range(1, TOTAL_GAMES_PER_YEAR+1):\n",
    "            maybe = '002%s' + str(game).zfill(5)\n",
    "            game_ids.append(maybe % year)\n",
    "    return game_ids"
   ]
  },
  {
   "cell_type": "code",
   "execution_count": null,
   "metadata": {},
   "outputs": [],
   "source": [
    "\"\"\"\n",
    "Using the py_ball API, we save all the PBP data locally as json files\n",
    "\"\"\"\n",
    "def populate_train_test(game_ids, directory='/home/avyayv/data/nba/playbyplay/py_ball/'):\n",
    "    train_x = []\n",
    "    train_y = []\n",
    "    for game_id in game_ids:\n",
    "        print(game_id)\n",
    "        \n",
    "        pbp = playbyplay.PlayByPlay(headers=headers, game_id=game_id)\n",
    "        with open(directory+game_id+'.json', 'w') as fp:\n",
    "            json.dump(pbp.data, fp)\n",
    "            \n",
    "        time.sleep(0.5)\n",
    "    return train_x, train_y"
   ]
  },
  {
   "cell_type": "code",
   "execution_count": null,
   "metadata": {},
   "outputs": [],
   "source": [
    "train_gids = get_game_ids(['15','16', '17']) #we use the 2015-16, 2016-17 and 2017-18 seasons"
   ]
  },
  {
   "cell_type": "code",
   "execution_count": null,
   "metadata": {},
   "outputs": [],
   "source": [
    "populate_train_test(train_gids) # save pbp data for the train_seasons locally"
   ]
  },
  {
   "cell_type": "code",
   "execution_count": 7,
   "metadata": {},
   "outputs": [],
   "source": [
    "\"\"\"\n",
    "Our methodology for training the data is as follows:\n",
    "We split the game into 288 10-second time frames (extra 30 time frames for OT) and run separate \n",
    "logistic regressions for EACH of the time frames. This is because I found that running a single \n",
    "logistic regression model did not capture the time aspect of the WP model very well.\n",
    "\n",
    "In each of the logistic regressions, we feed in (a) the point differential, with respect to\n",
    "the home team score and (b) the team that has possession of the ball.\n",
    "\n",
    "The try catch statement is in case there was some sort of error in parsing a single pbp file.\n",
    "One or two games have messed up json files, I found.\n",
    "\n",
    "\"\"\"\n",
    "def get_train_test_from_dir(directory='/home/avyayv/data/nba/playbyplay/py_ball/'):\n",
    "    train = []\n",
    "    for file in os.listdir(directory): #list the directory we saved the json files in\n",
    "        try:\n",
    "            pbp = json.loads(open(directory+file).read())\n",
    "            jump_event = pbp['PlayByPlay'][1]\n",
    "            home_has_ball = (jump_event['HOMEDESCRIPTION'] != None) #did home win the jump\n",
    "            current_margin = 0\n",
    "            home_wins = int(pbp['PlayByPlay'][-1]['SCOREMARGIN']) > 0 #was home winning in the last event?\n",
    "            last_second = 2880 #this variable stores the current time (starts off at 2880 seconds left)\n",
    "            \n",
    "            game = {} #we store a dict because we are splitting up into many logistics regressions:\n",
    "            #the key is the 10 second time (2870, 2860, ...) and the value is \n",
    "            #[margin, home_team_won, home_possession]\n",
    "            \n",
    "            added_this_game = [] #this is to make sure we aren't adding values twice\n",
    "            for event in pbp['PlayByPlay'][2:]:\n",
    "                \n",
    "                seconds_left_in_game = get_seconds_left(event['PERIOD'], event['PCTIMESTRING']) #check number of seconds left\n",
    "                \n",
    "                for sec in range(seconds_left_in_game+1, last_second):\n",
    "                    if sec % 10 == 0 and (sec not in added_this_game): #see if its a tenth, and its not been added yet\n",
    "                        game[sec] = [current_margin, home_wins, home_has_ball] #populate train dictionary\n",
    "                        added_this_game.append(sec)\n",
    "                    \n",
    "                last_second = seconds_left_in_game #update the last_second variable, which stores the current time\n",
    "                \n",
    "                \"\"\"\n",
    "                Now, we use logic to determine who has possession at a given timestamp, given the PBP data\n",
    "                If the home team did something and the away team didn't, the home team has the ball.\n",
    "                I.e if the home team got a rebound, than the home team has the ball\n",
    "                \"\"\"\n",
    "                \n",
    "                home_desc = (event['HOMEDESCRIPTION'] != None)\n",
    "                visitor_desc = (event['VISITORDESCRIPTION'] != None)\n",
    "                \n",
    "                if home_desc and not visitor_desc:\n",
    "                    home_has_ball = True\n",
    "                \n",
    "                if visitor_desc and not home_desc:\n",
    "                    home_has_ball = False\n",
    "                    \n",
    "                if home_desc and visitor_desc:\n",
    "                    if ('STEAL' in event['HOMEDESCRIPTION']) or ('BLOCK' in event['HOMEDESCRIPTION']):\n",
    "                        home_has_ball = True\n",
    "                    else:\n",
    "                        home_has_ball = False\n",
    "                        \n",
    "                \"\"\"\n",
    "                Here, we update the margin if it changed\n",
    "                \"\"\"\n",
    "                    \n",
    "                if event['SCOREMARGIN'] != None:\n",
    "                    margin = 0\n",
    "                    if event['SCOREMARGIN'] != 'TIE':\n",
    "                        margin = (int(event['SCOREMARGIN']))\n",
    "                        current_margin = margin\n",
    "                \n",
    "                \"\"\"\n",
    "                Add to the game dictionary for pbp events\n",
    "                \"\"\"\n",
    "                        \n",
    "                if seconds_left_in_game % 10 == 0 and seconds_left_in_game not in added_this_game:  \n",
    "                    game[seconds_left_in_game] = [current_margin, home_wins, home_has_ball]\n",
    "                    added_this_game.append(int(seconds_left_in_game))\n",
    "                \n",
    "            train.append(game)\n",
    "            \n",
    "        except UnicodeDecodeError:\n",
    "            continue\n",
    "       \n",
    "    return train"
   ]
  },
  {
   "cell_type": "code",
   "execution_count": 8,
   "metadata": {},
   "outputs": [],
   "source": [
    "\"\"\"\n",
    "Get the train data from the directory\n",
    "\"\"\"\n",
    "train = get_train_test_from_dir()"
   ]
  },
  {
   "cell_type": "code",
   "execution_count": 11,
   "metadata": {},
   "outputs": [],
   "source": [
    "\"\"\"\n",
    "Use the train data to generate a dictionary of models\n",
    "The dictionary has a key for the 10 second timeframe and a value of the logistic model\n",
    "\"\"\"\n",
    "def train_model(train_x):\n",
    "    time_to_train_x = {}\n",
    "    time_to_train_y = {}\n",
    "    time_to_model = {}\n",
    "    for game in train_x:\n",
    "        for key in game.keys():\n",
    "            if key in time_to_train_x:\n",
    "                time_to_train_x[key].append([game[key][0], game[key][2]])\n",
    "                time_to_train_y[key].append(game[key][1])\n",
    "            else:\n",
    "                time_to_train_x[key] = [[game[key][0], game[key][2]]]\n",
    "                time_to_train_y[key] = [game[key][1]]\n",
    "                \n",
    "    for key in time_to_train_x.keys():\n",
    "        model = linear_model.LogisticRegression(max_iter=10000, solver='lbfgs')\n",
    "        model.fit(X=np.array(time_to_train_x[key]), y=np.array(time_to_train_y[key]))\n",
    "        time_to_model[key] = model\n",
    "    return time_to_model"
   ]
  },
  {
   "cell_type": "code",
   "execution_count": 12,
   "metadata": {},
   "outputs": [],
   "source": [
    "\"\"\"\n",
    "Generate the models\n",
    "\"\"\"\n",
    "time_to_model = train_model(train)"
   ]
  },
  {
   "cell_type": "code",
   "execution_count": 13,
   "metadata": {},
   "outputs": [],
   "source": [
    "\"\"\"\n",
    "Save models using pickle\n",
    "\"\"\"\n",
    "with open('model.pickle', 'wb') as handle:\n",
    "    pickle.dump(time_to_model, handle, protocol=pickle.HIGHEST_PROTOCOL)"
   ]
  }
 ],
 "metadata": {
  "kernelspec": {
   "display_name": "Python 3",
   "language": "python",
   "name": "python3"
  },
  "language_info": {
   "codemirror_mode": {
    "name": "ipython",
    "version": 3
   },
   "file_extension": ".py",
   "mimetype": "text/x-python",
   "name": "python",
   "nbconvert_exporter": "python",
   "pygments_lexer": "ipython3",
   "version": "3.7.3"
  }
 },
 "nbformat": 4,
 "nbformat_minor": 2
}
